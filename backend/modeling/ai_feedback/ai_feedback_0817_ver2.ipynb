{
  "cells": [
    {
      "cell_type": "code",
      "execution_count": null,
      "metadata": {
        "id": "Lw5M583bQh2k"
      },
      "outputs": [],
      "source": [
        "# !pip install openai"
      ]
    },
    {
      "cell_type": "code",
      "execution_count": null,
      "metadata": {
        "colab": {
          "base_uri": "https://localhost:8080/"
        },
        "id": "-iFd2yjHlT1s",
        "outputId": "408e3f25-d42d-4628-be1b-141efbb6fb37"
      },
      "outputs": [],
      "source": [
        "import openai\n",
        "\n",
        "openai.api_key = \"openai key\"\n",
        "\n",
        "# 서버에서 받을 데이터\n",
        "name = \"백만석2\"\n",
        "abilities = {\n",
        "    \"주의력\": \"보통\",\n",
        "    \"기억력\": \"좋음\",\n",
        "    \"처리능력\": \"나쁨\",\n",
        "    \"언어능력\": \"좋음\",\n",
        "    \"유연성\": \"보통\"\n",
        "}\n",
        "\n",
        "# 코드 작성\n",
        "short_name = name[1:]  # 성빼고 부르기\n",
        "\n",
        "def generate_feedback(name, abilities):\n",
        "    positive_points = [ability for ability, level in abilities.items() if level == \"좋음\"]\n",
        "    negative_points = [ability for ability, level in abilities.items() if level == \"나쁨\"]\n",
        "\n",
        "    # 긍정적 피드백\n",
        "    if positive_points:\n",
        "        positive_text = \"와 \".join(positive_points)\n",
        "        positive_feedback = f\"{short_name} 친구는 {positive_text}에서 뛰어난 모습을 보이고 있어요!\"\n",
        "        positive_response = positive_feedback + f\" {short_name} 친구의 {positive_text} 능력은 어떤 활동에서 장점이 될 수 있는지 알려줘\"\n",
        "        gpt_positive_response = get_gpt_response(positive_response)  # gpt 응답 부분\n",
        "        print(positive_feedback)\n",
        "        print(gpt_positive_response)\n",
        "\n",
        "    # 부정적 피드백\n",
        "    if negative_points:\n",
        "        negative_text = \"와 \".join(negative_points)\n",
        "        negative_feedback  = f\"그러나 {short_name} 친구는 {negative_text}에서는 조금 부족한 모습을 보이고 있어요\"\n",
        "        negative_response = negative_feedback + f\" {short_name} 친구의 {negative_text} 능력을 어떻게 보완할 수 있을지 알려줘\"\n",
        "        gpt_negative_response = get_gpt_response(negative_response)  # gpt 응답 부분\n",
        "        print(negative_feedback)\n",
        "        print(gpt_negative_response)\n",
        "\n",
        "    # 아이에 대한 칭찬과 격려\n",
        "    praise_encouragement = f\"우리 {name} 친구가 검사를 열심히 완료한 것에 칭찬을 해주세요!. 아직 부족한 부분이 있을 수 있지만, 그런 부분에 대해서 격려를 해주고 칭찬을 많이 해주세요!\"\n",
        "    print(praise_encouragement)\n",
        "def get_gpt_response(prompt):\n",
        "    response = openai.ChatCompletion.create(\n",
        "        model=\"gpt-3.5-turbo\",\n",
        "        messages=[\n",
        "            {\"role\": \"system\", \"content\": \"어린이에게 능력을 설명하고, 역량이 좋을 때와 나쁠 때에 대한 예시를 말하지 말고, 명확하고 3줄 이내로 내용을 말해주세요.\"},\n",
        "            {\"role\": \"user\", \"content\": prompt}\n",
        "        ],\n",
        "        temperature=0.7,\n",
        "        max_tokens=300\n",
        "    )\n",
        "    return response.choices[0].message['content']\n",
        "\n",
        "generate_feedback(short_name, abilities)\n"
      ]
    },
    {
      "cell_type": "markdown",
      "metadata": {
        "id": "UE6mcRAIUl7h"
      },
      "source": [
        "# 출력결과 모음"
      ]
    },
    {
      "cell_type": "code",
      "execution_count": 19,
      "metadata": {
        "colab": {
          "base_uri": "https://localhost:8080/",
          "height": 71
        },
        "id": "rozLBReyFOwp",
        "outputId": "8e11a08d-05a3-4541-fd60-8f0f57ca3276"
      },
      "outputs": [
        {
          "data": {
            "application/vnd.google.colaboratory.intrinsic+json": {
              "type": "string"
            },
            "text/plain": [
              "'만석2 친구는 기억력와 처리능력에서 뛰어난 모습을 보이고 있어요!\\n만석2 친구의 기억력과 처리능력은 공부나 문제 해결에 도움이 됩니다. 빠르게 정보를 습득하고 기억하여 문제를 해결하거나 학습 내용을 기억하는 데에 용이합니다.\\n그러나 만석2 친구는 주의력와 유연성에서는 조금 부족한 모습을 보이고 있어요\\n만석2 친구의 주의력과 유연성을 향상시키기 위해서는 다양한 활동과 게임을 통해 뇌를 자극하고, 집중력을 향상시킬 수 있는 훈련을 시행할 필요가 있습니다. 또한, 문제 해결 능력을 키울 수 있는 퍼즐이나 미로 등의 게임을 통해 유연성을 향상시킬 수 있습니다.\\n우리 만석2 친구가 검사를 열심히 완료한 것에 칭찬을 해주세요!. 아직 부족한 부분이 있을 수 있지만, 그런 부분에 대해서 격려를 해주고 칭찬을 많이 해주세요!'"
            ]
          },
          "execution_count": 19,
          "metadata": {},
          "output_type": "execute_result"
        }
      ],
      "source": [
        "# 서버에서 받을 데이터\n",
        "# name = \"백만석2\"\n",
        "# abilities = {\n",
        "#     \"주의력\": \"나쁨\",\n",
        "#     \"기억력\": \"좋음\",\n",
        "#     \"처리능력\": \"좋음\",\n",
        "#     \"언어능력\": \"보통\",\n",
        "#     \"유연성\": \"나쁨\"\n",
        "# }\n",
        "\n",
        "\"\"\"만석2 친구는 기억력와 처리능력에서 뛰어난 모습을 보이고 있어요!\n",
        "만석2 친구의 기억력과 처리능력은 공부나 문제 해결에 도움이 됩니다. 빠르게 정보를 습득하고 기억하여 문제를 해결하거나 학습 내용을 기억하는 데에 용이합니다.\n",
        "그러나 만석2 친구는 주의력와 유연성에서는 조금 부족한 모습을 보이고 있어요\n",
        "만석2 친구의 주의력과 유연성을 향상시키기 위해서는 다양한 활동과 게임을 통해 뇌를 자극하고, 집중력을 향상시킬 수 있는 훈련을 시행할 필요가 있습니다. 또한, 문제 해결 능력을 키울 수 있는 퍼즐이나 미로 등의 게임을 통해 유연성을 향상시킬 수 있습니다.\n",
        "우리 만석2 친구가 검사를 열심히 완료한 것에 칭찬을 해주세요!. 아직 부족한 부분이 있을 수 있지만, 그런 부분에 대해서 격려를 해주고 칭찬을 많이 해주세요!\"\"\""
      ]
    },
    {
      "cell_type": "code",
      "execution_count": 21,
      "metadata": {
        "colab": {
          "base_uri": "https://localhost:8080/",
          "height": 89
        },
        "id": "92Fp9LYWGBLj",
        "outputId": "6abbd09c-89fa-417a-b186-cda841f09816"
      },
      "outputs": [
        {
          "data": {
            "application/vnd.google.colaboratory.intrinsic+json": {
              "type": "string"
            },
            "text/plain": [
              "' 만석2 친구는 주의력와 유연성에서 뛰어난 모습을 보이고 있어요!\\n만석2 친구의 주의력과 유연성 능력은 숙제나 공부할 때 집중력을 높이고, 문제를 다양한 관점에서 해결하는 데 도움이 될 수 있어요.\\n그러나 만석2 친구는 기억력에서는 조금 부족한 모습을 보이고 있어요\\n만석2 친구의 기억력을 향상시키기 위해, 일정을 잘 관리하고 학습 내용을 정리하며 복습하는 습관을 기르는 것이 도움이 될 수 있습니다. 또한, 인지 능력을 향상시키기 위해 퍼즐이나 두뇌 게임 등을 플레이하는 것도 좋은 방법입니다. 마지막으로, 건강한 식단과 충분한 휴식을 취하면 기억력에도 도움이 될 수 있습니다.\\n우리 만석2 친구가 검사를 열심히 완료한 것에 칭찬을 해주세요!. 아직 부족한 부분이 있을 수 있지만, 그런 부분에 대해서 격려를 해주고 칭찬을 많이 해주세요!'"
            ]
          },
          "execution_count": 21,
          "metadata": {},
          "output_type": "execute_result"
        }
      ],
      "source": [
        "# 서버에서 받을 데이터\n",
        "# name = \"백만석2\"\n",
        "# abilities = {\n",
        "#     \"주의력\": \"좋음\",\n",
        "#     \"기억력\": \"나쁨\",\n",
        "#     \"처리능력\": \"보통\",\n",
        "#     \"언어능력\": \"보통\",\n",
        "#     \"유연성\": \"좋음\"\n",
        "# }\n",
        "\n",
        "\"\"\" 만석2 친구는 주의력와 유연성에서 뛰어난 모습을 보이고 있어요!\n",
        "만석2 친구의 주의력과 유연성 능력은 숙제나 공부할 때 집중력을 높이고, 문제를 다양한 관점에서 해결하는 데 도움이 될 수 있어요.\n",
        "그러나 만석2 친구는 기억력에서는 조금 부족한 모습을 보이고 있어요\n",
        "만석2 친구의 기억력을 향상시키기 위해, 일정을 잘 관리하고 학습 내용을 정리하며 복습하는 습관을 기르는 것이 도움이 될 수 있습니다. 또한, 인지 능력을 향상시키기 위해 퍼즐이나 두뇌 게임 등을 플레이하는 것도 좋은 방법입니다. 마지막으로, 건강한 식단과 충분한 휴식을 취하면 기억력에도 도움이 될 수 있습니다.\n",
        "우리 만석2 친구가 검사를 열심히 완료한 것에 칭찬을 해주세요!. 아직 부족한 부분이 있을 수 있지만, 그런 부분에 대해서 격려를 해주고 칭찬을 많이 해주세요!\"\"\""
      ]
    }
  ],
  "metadata": {
    "colab": {
      "provenance": []
    },
    "kernelspec": {
      "display_name": "Python 3",
      "name": "python3"
    },
    "language_info": {
      "name": "python"
    }
  },
  "nbformat": 4,
  "nbformat_minor": 0
}
