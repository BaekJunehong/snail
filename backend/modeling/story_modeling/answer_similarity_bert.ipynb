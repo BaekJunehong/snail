{
  "cells": [
    {
      "cell_type": "code",
      "execution_count": null,
      "metadata": {
        "id": "Ncx2XvM2THp6"
      },
      "outputs": [],
      "source": [
        "# !pip install sentence_transformers"
      ]
    },
    {
      "cell_type": "code",
      "execution_count": 11,
      "metadata": {
        "id": "2QL1RPAc8-uV"
      },
      "outputs": [],
      "source": [
        "import numpy as np\n",
        "from sentence_transformers import SentenceTransformer, util\n",
        "\n",
        "# SentenceTransformer 모델 로드\n",
        "model = SentenceTransformer('paraphrase-MiniLM-L6-v2')"
      ]
    },
    {
      "cell_type": "code",
      "execution_count": 19,
      "metadata": {
        "colab": {
          "base_uri": "https://localhost:8080/"
        },
        "id": "2PtRcYLKTWGe",
        "outputId": "732614ba-b1a9-4dfe-e35b-0d9c698f63f9"
      },
      "outputs": [
        {
          "name": "stdout",
          "output_type": "stream",
          "text": [
            "정답 문장과 답안 1 의미적 유사도 점수: 1.0000\n",
            "정답 문장과 답안 2 의미적 유사도 점수: 0.8555\n",
            "정답 문장과 답안 3 의미적 유사도 점수: 0.9107\n",
            "정답 문장과 답안 4 의미적 유사도 점수: 0.8041\n",
            "정답 문장과 답안 5 의미적 유사도 점수: 0.6964\n",
            "정답 문장과 답안 6 의미적 유사도 점수: 0.7269\n",
            "정답 문장과 답안 7 의미적 유사도 점수: 0.6902\n"
          ]
        }
      ],
      "source": [
        "# 예시 질문\n",
        "example_question = \"음메씨는 아침에 일어나면 무엇을 제일 먼저 할까요?\"\n",
        "\n",
        "# 정답 문장\n",
        "example_answer = \"음메씨는 아침에 일어나서 제일 먼저 신문기사를 읽는다.\"\n",
        "\n",
        "# 여러 개의 답변 문장\n",
        "response_list = [\n",
        "    \"음메씨는 아침에 일어나서 제일 먼저 신문기사를 읽는다.\",\n",
        "    \"신문기사를 읽는다.\",\n",
        "    \"신문기사를 본다.\",\n",
        "    \"뉴스를 본다\",\n",
        "    \"뉴스를 읽는다\",\n",
        "    \"영화를 보았다.\",\n",
        "    \"밥을 먹었다.\"\n",
        "]\n",
        "\n",
        "# 문장 리스트에 대한 임베딩 계산\n",
        "sentences = [example_answer] + response_list\n",
        "embeddings = model.encode(sentences, convert_to_tensor=True)\n",
        "\n",
        "# 정답 문장과 각 답안 문장 간의 의미적 유사도 계산 및 변환\n",
        "for i in range(1, len(sentences)):\n",
        "    similarity = util.pytorch_cos_sim(embeddings[0:1], embeddings[i:i+1]).item()\n",
        "\n",
        "    # 지수 함수로 유사도 점수 변환\n",
        "    similarity_score = np.exp(similarity)\n",
        "    # 정답일수록 유사도가 1에 가까워지도록 변환\n",
        "    similarity_score/2.7183\n",
        "\n",
        "    print(f\"정답 문장과 답안 {i} 의미적 유사도 점수: {similarity_score:.4f}\")\n"
      ]
    }
  ],
  "metadata": {
    "colab": {
      "provenance": []
    },
    "kernelspec": {
      "display_name": "Python 3",
      "name": "python3"
    },
    "language_info": {
      "name": "python"
    }
  },
  "nbformat": 4,
  "nbformat_minor": 0
}
