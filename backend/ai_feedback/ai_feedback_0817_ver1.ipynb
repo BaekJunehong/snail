{
  "cells": [
    {
      "cell_type": "code",
      "execution_count": null,
      "metadata": {
        "id": "Lw5M583bQh2k"
      },
      "outputs": [],
      "source": [
        "# !pip install openai"
      ]
    },
    {
      "cell_type": "code",
      "execution_count": null,
      "metadata": {
        "colab": {
          "base_uri": "https://localhost:8080/"
        },
        "id": "-iFd2yjHlT1s",
        "outputId": "55ae115f-aaa5-4eca-dae7-8329e2a5322e"
      },
      "outputs": [],
      "source": [
        "import openai\n",
        "\n",
        "openai.api_key = \"openai 키값\"\n",
        "\n",
        "# 서버에서 받을 데이터\n",
        "name = \"백만석\"\n",
        "abilities = {\n",
        "    \"주의력\": \"보통\",\n",
        "    \"기억력\": \"나쁨\",\n",
        "    \"처리능력\": \"좋음\",\n",
        "    \"언어능력\": \"보통\",\n",
        "    \"유연성\": \"나쁨\"\n",
        "}\n",
        "\n",
        "# 코드 작성\n",
        "short_name = name[1:]  # 성빼고 부르기\n",
        "\n",
        "def generate_feedback(name, abilities):\n",
        "    messages = [\n",
        "        {\"role\": \"system\", \"content\": \"You are a doctor who tests language recognition skills for kindergarten students. talking to child.\"},\n",
        "        {\"role\": \"user\", \"content\": f\"'{short_name}' 친구의 검사 결과에 대해 알려주세요.\"}\n",
        "    ]\n",
        "\n",
        "    positive_points = [ability for ability, level in abilities.items() if level == \"좋음\"]\n",
        "    negative_points = [ability for ability, level in abilities.items() if level == \"나쁨\"]\n",
        "\n",
        "    # 좋은 역량에 대한 언급 및 피드백\n",
        "    if positive_points:\n",
        "        positive_text = \"와 \".join(positive_points)\n",
        "        positive_feedback = f\"'{short_name}' 친구는 '{positive_text}'에서 뛰어난 모습을 보이고 있어요!\"\n",
        "        messages.append(\n",
        "            {\"role\": \"assistant\", \"content\": positive_feedback + f\" '{short_name}' 친구의 '{positive_text}' 능력은 어떤 활동에서 장점이 될 수 있는지 알려줘\"}\n",
        "        )\n",
        "\n",
        "    # 부족한 역량에 대한 언급 및 피드백\n",
        "    if negative_points:\n",
        "        negative_text = \"와 \".join(negative_points)\n",
        "        negative_feedback  = f\"그러나 '{short_name}' 친구는 '{negative_text}'에서는 조금 부족한 모습을 보이고 있어요\"\n",
        "        messages.append(\n",
        "            {\"role\": \"assistant\", \"content\": negative_feedback + f\" '{short_name}' 친구의 '{negative_text}' 능력을 어떻게 보완할 수 있을지 알려줘\"}\n",
        "        )\n",
        "\n",
        "\n",
        "    # 아이에 대한 칭찬과 격려 추가\n",
        "    messages.append({\"role\": \"assistant\", \"content\": f\"먼저 '{name}' 친구가 검사를 열심히 완료한 것에 칭찬을 해주세요!. 아직 부족한 부분이 있을 수 있지만, 그런 부분에 대해서 격려를 해주고 칭찬을 많이 해주세요!\"})\n",
        "\n",
        "    ai_response = openai.ChatCompletion.create(\n",
        "        model=\"gpt-3.5-turbo\",\n",
        "        messages=messages\n",
        "    )\n",
        "\n",
        "    return ai_response.choices[0].message['content']\n",
        "\n",
        "ai_response = generate_feedback(short_name, abilities)\n",
        "print(ai_response)\n"
      ]
    },
    {
      "cell_type": "markdown",
      "metadata": {
        "id": "UE6mcRAIUl7h"
      },
      "source": [
        "# 출력결과 모음"
      ]
    },
    {
      "cell_type": "code",
      "execution_count": 20,
      "metadata": {
        "colab": {
          "base_uri": "https://localhost:8080/",
          "height": 107
        },
        "id": "cVVS5OcVUjs8",
        "outputId": "f15c2ffd-2cce-450b-c5ae-60ce5da73c7a"
      },
      "outputs": [
        {
          "data": {
            "application/vnd.google.colaboratory.intrinsic+json": {
              "type": "string"
            },
            "text/plain": [
              "\"아, '만석' 친구의 검사 결과에는 좋은 소식이 있어요! '만석' 친구는 주의력과 처리능력에서 높은 점수를 받았답니다. 이는 '만석' 친구가 주의를 집중하고 일을 처리하는 능력이 우수하다는 뜻이에요. 주의력과 처리능력은 놀이를 할 때나 공부를 할 때 모두 도움이 되는 능력이랍니다.\\n\\n하지만 '만석' 친구는 언어능력에서는 조금 도전이 필요할 것 같아요. 언어능력은 말하기와 듣기, 글쓰기와 읽기 능력을 포함하며, 이는 의사소통과 학습에 중요한 역할을 해요. 우리는 함께 다양한 놀이와 활동을 통해 언어능력을 향상시킬 수 있어요!\\n\\n예를 들어, 이야기 나누기 놀이를 하면 '만석' 친구는 문장을 구사하고 이야기를 흥미롭게 전달할 수 있어요. 또한, 책을 읽어주고 함께 이야기하는 것도 좋은 방법이에요. 그리고 그림 카드를 활용해서 단어를 맞추는 놀이를 할 수도 있어요. 이런 놀이와 활동을 통해 '만석' 친구의 언어능력을 향상시킬 수 있답니다.\\n\\n'만석' 친구는 이미 주의력과 처리능력에서 뛰어난 모습을 보이고 있어요! 이제 언어능력도 함께 발전시키면서 한 발 더 성장해 나갈 수 있을 거예요! 계속해서 노력하고 열심히 놀아주면서 언어 능력을 향상시키도록 해봐요!\""
            ]
          },
          "execution_count": 20,
          "metadata": {},
          "output_type": "execute_result"
        }
      ],
      "source": [
        "# 서버에서 받을 데이터\n",
        "# name = \"백만석\"\n",
        "# abilities = {\n",
        "#     \"주의력\": \"좋음\",\n",
        "#     \"기억력\": \"보통\",\n",
        "#     \"처리능력\": \"좋음\",\n",
        "#     \"언어능력\": \"나쁨\",\n",
        "#     \"유연성\": \"보통\"\n",
        "# }\n",
        "\n",
        "\"\"\"아, '만석' 친구의 검사 결과에는 좋은 소식이 있어요! '만석' 친구는 주의력과 처리능력에서 높은 점수를 받았답니다. 이는 '만석' 친구가 주의를 집중하고 일을 처리하는 능력이 우수하다는 뜻이에요. 주의력과 처리능력은 놀이를 할 때나 공부를 할 때 모두 도움이 되는 능력이랍니다.\n",
        "\n",
        "하지만 '만석' 친구는 언어능력에서는 조금 도전이 필요할 것 같아요. 언어능력은 말하기와 듣기, 글쓰기와 읽기 능력을 포함하며, 이는 의사소통과 학습에 중요한 역할을 해요. 우리는 함께 다양한 놀이와 활동을 통해 언어능력을 향상시킬 수 있어요!\n",
        "\n",
        "예를 들어, 이야기 나누기 놀이를 하면 '만석' 친구는 문장을 구사하고 이야기를 흥미롭게 전달할 수 있어요. 또한, 책을 읽어주고 함께 이야기하는 것도 좋은 방법이에요. 그리고 그림 카드를 활용해서 단어를 맞추는 놀이를 할 수도 있어요. 이런 놀이와 활동을 통해 '만석' 친구의 언어능력을 향상시킬 수 있답니다.\n",
        "\n",
        "'만석' 친구는 이미 주의력과 처리능력에서 뛰어난 모습을 보이고 있어요! 이제 언어능력도 함께 발전시키면서 한 발 더 성장해 나갈 수 있을 거예요! 계속해서 노력하고 열심히 놀아주면서 언어 능력을 향상시키도록 해봐요!\"\"\""
      ]
    },
    {
      "cell_type": "code",
      "execution_count": 26,
      "metadata": {
        "colab": {
          "base_uri": "https://localhost:8080/",
          "height": 53
        },
        "id": "sDeg0snEVFXW",
        "outputId": "94b7bbc8-508f-43c3-d41f-cacdfd68b710"
      },
      "outputs": [
        {
          "data": {
            "application/vnd.google.colaboratory.intrinsic+json": {
              "type": "string"
            },
            "text/plain": [
              "\"'만석2' 친구는 '주의력와 기억력와 처리능력'에서 높은 점수를 받았어요! 이는 친구가 집중력이 뛰어나고, 기억력과 문제해결 능력이 높다는 것을 의미해요. 이러한 능력은 수업 시간에 문제를 해결하거나 친구들과 함께 놀이를 할 때 도움이 되는데요. 친구가 이러한 능력을 활용하여 더욱 성장할 수 있도록 도와주세요!\""
            ]
          },
          "execution_count": 26,
          "metadata": {},
          "output_type": "execute_result"
        }
      ],
      "source": [
        "# 서버에서 받을 데이터\n",
        "# name = \"백만석2\"\n",
        "# abilities = {\n",
        "#     \"주의력\": \"좋음\",\n",
        "#     \"기억력\": \"좋음\",\n",
        "#     \"처리능력\": \"좋음\",\n",
        "#     \"언어능력\": \"나쁨\",\n",
        "#     \"유연성\": \"나쁨\"\n",
        "# }\n",
        "\n",
        "\"\"\"'만석2' 친구는 '주의력와 기억력와 처리능력'에서 높은 점수를 받았어요! 이는 친구가 집중력이 뛰어나고, 기억력과 문제해결 능력이 높다는 것을 의미해요. 이러한 능력은 수업 시간에 문제를 해결하거나 친구들과 함께 놀이를 할 때 도움이 되는데요. 친구가 이러한 능력을 활용하여 더욱 성장할 수 있도록 도와주세요!\"\"\""
      ]
    },
    {
      "cell_type": "code",
      "execution_count": 27,
      "metadata": {
        "colab": {
          "base_uri": "https://localhost:8080/",
          "height": 89
        },
        "id": "Wz5JgSB-ZBiL",
        "outputId": "9c2a370d-30d9-4f21-d11f-dda2259e8ab6"
      },
      "outputs": [
        {
          "data": {
            "application/vnd.google.colaboratory.intrinsic+json": {
              "type": "string"
            },
            "text/plain": [
              "\"당신의 '만석2' 친구는 언어 능력과 처리 능력 면에서 훌륭한 결과를 보여주고 있습니다! 어떤 종류의 활동에서 이러한 능력을 발휘할 수 있는지 몇 가지 예시를 들어 보겠습니다.\\n\\n1. 언어 능력을 활용하는 활동: '만석2' 친구는 글을 읽고 이해하는 능력이 뛰어나기 때문에, 동화책을 읽어주는 것이 좋을 수 있습니다. 그리고 이야기를 이해한 후에는 친구에게 이야기를 다시 설명해보도록 유도해보세요.\\n\\n2. 처리 능력을 활용하는 활동: '만석2' 친구는 처리 능력이 뛰어나다고 하셨으니, 퍼즐 조립이나 블록 놀이 등 문제를 해결하는 활동을 시도해보세요. 그리고 친구가 문제를 해결할 때 어떤 전략을 사용하는지 묻고 공유해보는 것도 좋은 아이디어입니다.\\n\\n이러한 활동을 통해 '만석2' 친구의 언어 능력과 처리 능력을 더욱 발전시킬 수 있을 것입니다! 그러나 주의력과 유연성에서는 아직 조금 부족한 점이 있을 수도 있습니다. 이 부분을 보완하기 위해 어떤 놀이나 활동을 추천해 드릴까요?\""
            ]
          },
          "execution_count": 27,
          "metadata": {},
          "output_type": "execute_result"
        }
      ],
      "source": [
        "# 서버에서 받을 데이터\n",
        "# name = \"백만석2\"\n",
        "# abilities = {\n",
        "#     \"주의력\": \"나쁨\",\n",
        "#     \"기억력\": \"보통\",\n",
        "#     \"처리능력\": \"좋음\",\n",
        "#     \"언어능력\": \"좋음\",\n",
        "#     \"유연성\": \"나쁨\"\n",
        "# }\n",
        "\n",
        "\"\"\"당신의 '만석2' 친구는 언어 능력과 처리 능력 면에서 훌륭한 결과를 보여주고 있습니다! 어떤 종류의 활동에서 이러한 능력을 발휘할 수 있는지 몇 가지 예시를 들어 보겠습니다.\n",
        "\n",
        "1. 언어 능력을 활용하는 활동: '만석2' 친구는 글을 읽고 이해하는 능력이 뛰어나기 때문에, 동화책을 읽어주는 것이 좋을 수 있습니다. 그리고 이야기를 이해한 후에는 친구에게 이야기를 다시 설명해보도록 유도해보세요.\n",
        "\n",
        "2. 처리 능력을 활용하는 활동: '만석2' 친구는 처리 능력이 뛰어나다고 하셨으니, 퍼즐 조립이나 블록 놀이 등 문제를 해결하는 활동을 시도해보세요. 그리고 친구가 문제를 해결할 때 어떤 전략을 사용하는지 묻고 공유해보는 것도 좋은 아이디어입니다.\n",
        "\n",
        "이러한 활동을 통해 '만석2' 친구의 언어 능력과 처리 능력을 더욱 발전시킬 수 있을 것입니다! 그러나 주의력과 유연성에서는 아직 조금 부족한 점이 있을 수도 있습니다. 이 부분을 보완하기 위해 어떤 놀이나 활동을 추천해 드릴까요?\"\"\""
      ]
    },
    {
      "cell_type": "code",
      "execution_count": 28,
      "metadata": {
        "colab": {
          "base_uri": "https://localhost:8080/",
          "height": 107
        },
        "id": "w-k_1gGcaBVR",
        "outputId": "e7e167d5-c45e-4135-cd6f-0823d8cdc5f1"
      },
      "outputs": [
        {
          "data": {
            "application/vnd.google.colaboratory.intrinsic+json": {
              "type": "string"
            },
            "text/plain": [
              "\"또한, '만석3' 친구를 도와서 '기억력와 유연성'을 향상시킬 수 있는 몇 가지 방법을 알려드릴게요. \\n\\n1. 게임과 퍼즐: '만석3' 친구에게 게임과 퍼즐을 해보도록 도전해보세요. 이를 통해 머리속에서 정보를 기억하고 유연하게 문제를 해결하는 능력을 키울 수 있어요. \\n\\n2. 이야기 듣기와 해야 할 일 기억하기: '만석3' 친구에게 이야기를 듣는 동안 그 중요한 내용을 기억하도록 도와주세요. 그리고 할 일 목록을 만들어서 그 일을 기억하고 실행하는 능력을 향상시킬 수 있어요.\\n\\n3. 키워드 연상하기: '만석3' 친구에게 특정 키워드를 언급하면 관련된 정보나 아이디어들을 연상하도록 유도해보세요. 이를 통해 더 유연한 사고와 기억력을 향상시킬 수 있을거에요.\\n\\n4. 반복학습과 복습: '만석3' 친구가 배운 내용들을 주기적으로 반복해서 복습하게 해주세요. 이를 통해 정보를 더 잘 기억하고 유연하게 다룰 수 있을거에요.\\n\\n이러한 방법들을 적절히 시도하면 '만석3' 친구의 '기억력와 유연성' 능력이 향상될 수 있을거에요. 하지만 중요한 건 그들의 노력과 지속적인 실습입니다. 그들을 격려하며 가장 재미있는 방법을 찾아서 함께 해보세요!\""
            ]
          },
          "execution_count": 28,
          "metadata": {},
          "output_type": "execute_result"
        }
      ],
      "source": [
        "# 서버에서 받을 데이터\n",
        "# name = \"백만석3\"\n",
        "# abilities = {\n",
        "#     \"주의력\": \"보통\",\n",
        "#     \"기억력\": \"나쁨\",\n",
        "#     \"처리능력\": \"좋음\",\n",
        "#     \"언어능력\": \"보통\",\n",
        "#     \"유연성\": \"나쁨\"\n",
        "# }\n",
        "\n",
        "\"\"\"또한, '만석3' 친구를 도와서 '기억력와 유연성'을 향상시킬 수 있는 몇 가지 방법을 알려드릴게요.\n",
        "\n",
        "1. 게임과 퍼즐: '만석3' 친구에게 게임과 퍼즐을 해보도록 도전해보세요. 이를 통해 머리속에서 정보를 기억하고 유연하게 문제를 해결하는 능력을 키울 수 있어요.\n",
        "\n",
        "2. 이야기 듣기와 해야 할 일 기억하기: '만석3' 친구에게 이야기를 듣는 동안 그 중요한 내용을 기억하도록 도와주세요. 그리고 할 일 목록을 만들어서 그 일을 기억하고 실행하는 능력을 향상시킬 수 있어요.\n",
        "\n",
        "3. 키워드 연상하기: '만석3' 친구에게 특정 키워드를 언급하면 관련된 정보나 아이디어들을 연상하도록 유도해보세요. 이를 통해 더 유연한 사고와 기억력을 향상시킬 수 있을거에요.\n",
        "\n",
        "4. 반복학습과 복습: '만석3' 친구가 배운 내용들을 주기적으로 반복해서 복습하게 해주세요. 이를 통해 정보를 더 잘 기억하고 유연하게 다룰 수 있을거에요.\n",
        "\n",
        "이러한 방법들을 적절히 시도하면 '만석3' 친구의 '기억력와 유연성' 능력이 향상될 수 있을거에요. 하지만 중요한 건 그들의 노력과 지속적인 실습입니다. 그들을 격려하며 가장 재미있는 방법을 찾아서 함께 해보세요!\"\"\""
      ]
    }
  ],
  "metadata": {
    "colab": {
      "collapsed_sections": [
        "UE6mcRAIUl7h"
      ],
      "provenance": []
    },
    "kernelspec": {
      "display_name": "Python 3",
      "name": "python3"
    },
    "language_info": {
      "name": "python"
    }
  },
  "nbformat": 4,
  "nbformat_minor": 0
}
